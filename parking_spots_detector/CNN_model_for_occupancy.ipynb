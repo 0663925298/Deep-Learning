{
 "cells": [
  {
   "cell_type": "code",
   "execution_count": 1,
   "metadata": {},
   "outputs": [
    {
     "name": "stderr",
     "output_type": "stream",
     "text": [
      "/usr/local/lib/python2.7/dist-packages/h5py/__init__.py:36: FutureWarning: Conversion of the second argument of issubdtype from `float` to `np.floating` is deprecated. In future, it will be treated as `np.float64 == np.dtype(float).type`.\n",
      "  from ._conv import register_converters as _register_converters\n",
      "Using TensorFlow backend.\n",
      "/usr/local/lib/python2.7/dist-packages/requests/__init__.py:83: RequestsDependencyWarning: Old version of cryptography ([1, 2, 3]) may cause slowdown.\n",
      "  warnings.warn(warning, RequestsDependencyWarning)\n"
     ]
    }
   ],
   "source": [
    "import numpy\n",
    "import os\n",
    "from keras import applications\n",
    "from keras.preprocessing.image import ImageDataGenerator\n",
    "from keras import optimizers\n",
    "from keras.models import Sequential, Model\n",
    "from keras.layers import Dropout, Flatten, Dense, GlobalAveragePooling2D\n",
    "from keras import backend as k\n",
    "from keras.callbacks import ModelCheckpoint, LearningRateScheduler, TensorBoard, EarlyStopping"
   ]
  },
  {
   "cell_type": "markdown",
   "metadata": {},
   "source": [
    "### 1. Load Test and Train Files"
   ]
  },
  {
   "cell_type": "code",
   "execution_count": 2,
   "metadata": {},
   "outputs": [
    {
     "name": "stdout",
     "output_type": "stream",
     "text": [
      "(381, 164)\n"
     ]
    }
   ],
   "source": [
    "files_train = 0\n",
    "files_validation = 0\n",
    "\n",
    "cwd = os.getcwd()\n",
    "folder = 'train_data/train'\n",
    "for sub_folder in os.listdir(folder):\n",
    "    path, dirs, files = next(os.walk(os.path.join(folder,sub_folder)))\n",
    "    files_train += len(files)\n",
    "\n",
    "\n",
    "folder = 'train_data/test'\n",
    "for sub_folder in os.listdir(folder):\n",
    "    path, dirs, files = next(os.walk(os.path.join(folder,sub_folder)))\n",
    "    files_validation += len(files)\n",
    "\n",
    "print(files_train,files_validation)"
   ]
  },
  {
   "cell_type": "markdown",
   "metadata": {},
   "source": [
    "### 2. Set key parameters"
   ]
  },
  {
   "cell_type": "code",
   "execution_count": 3,
   "metadata": {},
   "outputs": [],
   "source": [
    "img_width, img_height = 48, 48\n",
    "train_data_dir = \"train_data/train\"\n",
    "validation_data_dir = \"train_data/test\"\n",
    "nb_train_samples = files_train\n",
    "nb_validation_samples = files_validation\n",
    "batch_size = 16\n",
    "epochs = 16\n",
    "num_classes = 2"
   ]
  },
  {
   "cell_type": "markdown",
   "metadata": {},
   "source": [
    "### 3. Build model on top of a trained VGG"
   ]
  },
  {
   "cell_type": "code",
   "execution_count": 4,
   "metadata": {},
   "outputs": [],
   "source": [
    "model = applications.VGG16(weights = \"imagenet\", include_top=False, input_shape = (img_width, img_height, 3))\n",
    "# Freeze the layers which you don't want to train. Here I am freezing the first 5 layers.\n",
    "for layer in model.layers[:10]:\n",
    "    layer.trainable = False"
   ]
  },
  {
   "cell_type": "code",
   "execution_count": 5,
   "metadata": {},
   "outputs": [
    {
     "name": "stderr",
     "output_type": "stream",
     "text": [
      "/usr/local/lib/python2.7/dist-packages/ipykernel_launcher.py:10: UserWarning: Update your `Model` call to the Keras 2 API: `Model(outputs=Tensor(\"de..., inputs=Tensor(\"in...)`\n",
      "  # Remove the CWD from sys.path while we load stuff.\n"
     ]
    }
   ],
   "source": [
    "x = model.output\n",
    "x = Flatten()(x)\n",
    "x = Dense(512, activation=\"relu\")(x)\n",
    "x = Dropout(0.5)(x)\n",
    "x = Dense(256, activation=\"relu\")(x)\n",
    "x = Dropout(0.5)(x)\n",
    "predictions = Dense(num_classes, activation=\"softmax\")(x)\n",
    "\n",
    "# creating the final model\n",
    "model_final = Model(input = model.input, output = predictions)\n",
    "\n",
    "# compile the model\n",
    "model_final.compile(loss = \"categorical_crossentropy\", \n",
    "                    optimizer = optimizers.SGD(lr=0.0001, momentum=0.9), \n",
    "                    metrics=[\"accuracy\"]) # See learning rate is very low"
   ]
  },
  {
   "cell_type": "code",
   "execution_count": 6,
   "metadata": {},
   "outputs": [
    {
     "name": "stdout",
     "output_type": "stream",
     "text": [
      "Found 381 images belonging to 2 classes.\n",
      "Found 164 images belonging to 2 classes.\n"
     ]
    }
   ],
   "source": [
    "# Initiate the train and test generators with data Augumentation\n",
    "train_datagen = ImageDataGenerator(\n",
    "rescale = 1./255,\n",
    "horizontal_flip = True,\n",
    "fill_mode = \"nearest\",\n",
    "zoom_range = 0.1,\n",
    "width_shift_range = 0.1,\n",
    "height_shift_range=0.1,\n",
    "rotation_range=5)\n",
    "\n",
    "test_datagen = ImageDataGenerator(\n",
    "rescale = 1./255,\n",
    "horizontal_flip = True,\n",
    "fill_mode = \"nearest\",\n",
    "zoom_range = 0.1,\n",
    "width_shift_range = 0.1,\n",
    "height_shift_range=0.1,\n",
    "rotation_range=5)\n",
    "\n",
    "train_generator = train_datagen.flow_from_directory(\n",
    "train_data_dir,\n",
    "target_size = (img_height, img_width),\n",
    "batch_size = batch_size,\n",
    "class_mode = \"categorical\")\n",
    "\n",
    "validation_generator = test_datagen.flow_from_directory(\n",
    "validation_data_dir,\n",
    "target_size = (img_height, img_width),\n",
    "class_mode = \"categorical\")"
   ]
  },
  {
   "cell_type": "code",
   "execution_count": 7,
   "metadata": {},
   "outputs": [],
   "source": [
    "# Save the model according to the conditions\n",
    "checkpoint = ModelCheckpoint(\"car1.h5\", monitor='val_acc', verbose=1, save_best_only=True, save_weights_only=False, mode='auto', period=1)\n",
    "early = EarlyStopping(monitor='val_acc', min_delta=0, patience=10, verbose=1, mode='auto')\n"
   ]
  },
  {
   "cell_type": "code",
   "execution_count": 8,
   "metadata": {},
   "outputs": [
    {
     "name": "stderr",
     "output_type": "stream",
     "text": [
      "/usr/local/lib/python2.7/dist-packages/ipykernel_launcher.py:9: UserWarning: The semantics of the Keras 2 argument `steps_per_epoch` is not the same as the Keras 1 argument `samples_per_epoch`. `steps_per_epoch` is the number of batches to draw from the generator at each epoch. Basically steps_per_epoch = samples_per_epoch/batch_size. Similarly `nb_val_samples`->`validation_steps` and `val_samples`->`steps` arguments have changed. Update your method calls accordingly.\n",
      "  if __name__ == '__main__':\n",
      "/usr/local/lib/python2.7/dist-packages/ipykernel_launcher.py:9: UserWarning: Update your `fit_generator` call to the Keras 2 API: `fit_generator(<keras.pre..., validation_data=<keras.pre..., steps_per_epoch=23, epochs=16, callbacks=[<keras.ca..., validation_steps=164)`\n",
      "  if __name__ == '__main__':\n"
     ]
    },
    {
     "name": "stdout",
     "output_type": "stream",
     "text": [
      "Epoch 1/16\n",
      "21/23 [==========================>...] - ETA: 0s - loss: 0.6298 - acc: 0.6328\n",
      "Epoch 00001: val_acc improved from -inf to 0.76937, saving model to car1.h5\n",
      "23/23 [==============================] - 6s 263ms/step - loss: 0.6296 - acc: 0.6403 - val_loss: 0.4830 - val_acc: 0.7694\n",
      "Epoch 2/16\n",
      "21/23 [==========================>...] - ETA: 0s - loss: 0.5754 - acc: 0.7463\n",
      "Epoch 00002: val_acc did not improve\n",
      "23/23 [==============================] - 5s 197ms/step - loss: 0.5623 - acc: 0.7493 - val_loss: 0.3906 - val_acc: 0.7674\n",
      "Epoch 3/16\n",
      "19/23 [=======================>......] - ETA: 0s - loss: 0.4050 - acc: 0.8191\n",
      "Epoch 00003: val_acc improved from 0.76937 to 0.90793, saving model to car1.h5\n",
      "23/23 [==============================] - 4s 167ms/step - loss: 0.4026 - acc: 0.8179 - val_loss: 0.2829 - val_acc: 0.9079\n",
      "Epoch 4/16\n",
      "20/23 [=========================>....] - ETA: 0s - loss: 0.3200 - acc: 0.8642\n",
      "Epoch 00004: val_acc improved from 0.90793 to 0.93277, saving model to car1.h5\n",
      "23/23 [==============================] - 4s 179ms/step - loss: 0.3070 - acc: 0.8738 - val_loss: 0.2044 - val_acc: 0.9328\n",
      "Epoch 5/16\n",
      "20/23 [=========================>....] - ETA: 0s - loss: 0.2006 - acc: 0.9469\n",
      "Epoch 00005: val_acc improved from 0.93277 to 0.93878, saving model to car1.h5\n",
      "23/23 [==============================] - 4s 186ms/step - loss: 0.2125 - acc: 0.9375 - val_loss: 0.1726 - val_acc: 0.9388\n",
      "Epoch 6/16\n",
      "22/23 [===========================>..] - ETA: 0s - loss: 0.1516 - acc: 0.9476\n",
      "Epoch 00006: val_acc did not improve\n",
      "23/23 [==============================] - 4s 176ms/step - loss: 0.1530 - acc: 0.9471 - val_loss: 0.1937 - val_acc: 0.9223\n",
      "Epoch 7/16\n",
      "22/23 [===========================>..] - ETA: 0s - loss: 0.1823 - acc: 0.9441\n",
      "Epoch 00007: val_acc improved from 0.93878 to 0.94301, saving model to car1.h5\n",
      "23/23 [==============================] - 4s 166ms/step - loss: 0.1804 - acc: 0.9438 - val_loss: 0.1496 - val_acc: 0.9430\n",
      "Epoch 8/16\n",
      "22/23 [===========================>..] - ETA: 0s - loss: 0.1231 - acc: 0.9653\n",
      "Epoch 00008: val_acc improved from 0.94301 to 0.94702, saving model to car1.h5\n",
      "23/23 [==============================] - 5s 216ms/step - loss: 0.1195 - acc: 0.9668 - val_loss: 0.1364 - val_acc: 0.9470\n",
      "Epoch 9/16\n",
      "21/23 [==========================>...] - ETA: 0s - loss: 0.1049 - acc: 0.9702\n",
      "Epoch 00009: val_acc improved from 0.94702 to 0.94892, saving model to car1.h5\n",
      "23/23 [==============================] - 4s 165ms/step - loss: 0.1138 - acc: 0.9647 - val_loss: 0.1299 - val_acc: 0.9489\n",
      "Epoch 10/16\n",
      "22/23 [===========================>..] - ETA: 0s - loss: 0.0665 - acc: 0.9830\n",
      "Epoch 00010: val_acc did not improve\n",
      "23/23 [==============================] - 4s 192ms/step - loss: 0.0641 - acc: 0.9837 - val_loss: 0.1652 - val_acc: 0.9370\n",
      "Epoch 11/16\n",
      "20/23 [=========================>....] - ETA: 0s - loss: 0.0984 - acc: 0.9656\n",
      "Epoch 00011: val_acc did not improve\n",
      "23/23 [==============================] - 5s 196ms/step - loss: 0.1043 - acc: 0.9647 - val_loss: 0.1615 - val_acc: 0.9363\n",
      "Epoch 12/16\n",
      "21/23 [==========================>...] - ETA: 0s - loss: 0.0716 - acc: 0.9821\n",
      "Epoch 00012: val_acc did not improve\n",
      "23/23 [==============================] - 4s 188ms/step - loss: 0.0724 - acc: 0.9810 - val_loss: 0.1396 - val_acc: 0.9467\n",
      "Epoch 13/16\n",
      "22/23 [===========================>..] - ETA: 0s - loss: 0.0850 - acc: 0.9574\n",
      "Epoch 00013: val_acc improved from 0.94892 to 0.95036, saving model to car1.h5\n",
      "23/23 [==============================] - 4s 185ms/step - loss: 0.0890 - acc: 0.9538 - val_loss: 0.1176 - val_acc: 0.9504\n",
      "Epoch 14/16\n",
      "20/23 [=========================>....] - ETA: 0s - loss: 0.0664 - acc: 0.9781\n",
      "Epoch 00014: val_acc did not improve\n",
      "23/23 [==============================] - 4s 186ms/step - loss: 0.0636 - acc: 0.9783 - val_loss: 0.1289 - val_acc: 0.9477\n",
      "Epoch 15/16\n",
      "22/23 [===========================>..] - ETA: 0s - loss: 0.0417 - acc: 0.9915\n",
      "Epoch 00015: val_acc did not improve\n",
      "23/23 [==============================] - 4s 185ms/step - loss: 0.0407 - acc: 0.9918 - val_loss: 0.1450 - val_acc: 0.9447\n",
      "Epoch 16/16\n",
      "22/23 [===========================>..] - ETA: 0s - loss: 0.0547 - acc: 0.9830\n",
      "Epoch 00016: val_acc improved from 0.95036 to 0.95525, saving model to car1.h5\n",
      "23/23 [==============================] - 5s 222ms/step - loss: 0.0627 - acc: 0.9810 - val_loss: 0.1219 - val_acc: 0.9553\n"
     ]
    }
   ],
   "source": [
    "### Start training!\n",
    "\n",
    "history_object = model_final.fit_generator(\n",
    "train_generator,\n",
    "samples_per_epoch = nb_train_samples,\n",
    "epochs = epochs,\n",
    "validation_data = validation_generator,\n",
    "nb_val_samples = nb_validation_samples,\n",
    "callbacks = [checkpoint, early])"
   ]
  },
  {
   "cell_type": "code",
   "execution_count": 11,
   "metadata": {},
   "outputs": [
    {
     "name": "stdout",
     "output_type": "stream",
     "text": [
      "['acc', 'loss', 'val_acc', 'val_loss']\n"
     ]
    },
    {
     "data": {
      "image/png": "[encoded data removed]",
      "text/plain": [
       "<Figure size 432x288 with 1 Axes>"
      ]
     },
     "metadata": {},
     "output_type": "display_data"
    }
   ],
   "source": [
    "import matplotlib.pyplot as plt\n",
    "print(history_object.history.keys())\n",
    "plt.plot(history_object.history['acc'])\n",
    "plt.plot(history_object.history['val_acc'])\n",
    "plt.title('model accuracy')\n",
    "plt.ylabel('acc')\n",
    "plt.xlabel('epoch')\n",
    "plt.legend(['train', 'test'], loc='upper left')\n",
    "plt.show()"
   ]
  },
  {
   "cell_type": "code",
   "execution_count": 10,
   "metadata": {},
   "outputs": [
    {
     "data": {
      "image/png": "[encoded data removed]",
      "text/plain": [
       "<Figure size 432x288 with 1 Axes>"
      ]
     },
     "metadata": {},
     "output_type": "display_data"
    }
   ],
   "source": [
    "plt.plot(history_object.history['loss'])\n",
    "plt.plot(history_object.history['val_loss'])\n",
    "plt.title('model loss')\n",
    "plt.ylabel('loss')\n",
    "plt.xlabel('epoch')\n",
    "plt.legend(['train', 'test'], loc='upper left')\n",
    "plt.show()"
   ]
  },
  {
   "cell_type": "code",
   "execution_count": null,
   "metadata": {},
   "outputs": [],
   "source": []
  }
 ],
 "metadata": {
  "kernelspec": {
   "display_name": "Python 2",
   "language": "python",
   "name": "python2"
  },
  "language_info": {
   "codemirror_mode": {
    "name": "ipython",
    "version": 2
   },
   "file_extension": ".py",
   "mimetype": "text/x-python",
   "name": "python",
   "nbconvert_exporter": "python",
   "pygments_lexer": "ipython2",
   "version": "2.7.12"
  }
 },
 "nbformat": 4,
 "nbformat_minor": 2
}
